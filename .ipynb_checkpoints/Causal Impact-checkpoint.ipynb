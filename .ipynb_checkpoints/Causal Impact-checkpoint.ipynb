{
 "cells": [
  {
   "cell_type": "markdown",
   "id": "121d5587",
   "metadata": {},
   "source": [
    "## Causal Impact on Samsung Electronics Share Price"
   ]
  },
  {
   "cell_type": "markdown",
   "id": "b02b06b9",
   "metadata": {},
   "source": [
    "Samsung Electronics' formal president, Gunhee Lee, passed away on last 25 October 2020. It was forecasted by experts that his death would cause a significant change in the company's stock price. In order to find out whether there was any impact of the event, we are going to use Bayesian Structured Time Series method (BSTS) below.\n",
    "\n",
    "### Contents\n",
    "1. Introduction\n",
    "2. Causal Impact Analysis\n",
    " - Step 1. Local Trend\n",
    " - Step 2. Seasonality\n",
    " - Step 3. Regression\n",
    "3. Conclusion"
   ]
  },
  {
   "cell_type": "markdown",
   "id": "525a4dca",
   "metadata": {},
   "source": [
    "### 1. Introduction\n",
    "\n",
    "#### What is Bayesian Structured Time Series?\n",
    "BSTS 원리. counterfactual나오고\n",
    "\n",
    "The method is different from A/B testing, in terms that the data is mainly gathered by natural observation, rather than by experiments between the certain timeframe. (e.g. how shipping fee increase has changed total payment amount, how competitor's marketing strategy changes have impacted our sales..) Since its wide range of usage in measuring the effect of events/campaigns retrospectively, it is actively being used in marketing analytics field.\n",
    "\n",
    "\n",
    "#### What should I provide?\n",
    "\n",
    "The model measures pure impact of an event, apart from the changes of local linear trend, seasonal effect and regression effects. Therefore it is required for us to key in local trend, seasonality and covariates as parameters, respectively.\n",
    "\n",
    "We also need to define training period, which is known as past data that our model uses as a baseline to predict future, and treatment period (as known as future data that will be used ) that we use 여기도 채우기 \n",
    "\n",
    "#### How does the method works?\n",
    "\n",
    "Below is the equation of the basic BSTS;\n",
    "\n",
    "    Yt=μt+xtβ+St+et,et∼N(0,σ2e)\n",
    "    μt+1=μt+νt,νt∼N(0,σ2ν)\n",
    "\n",
    "Here ```xt``` denotes a set of regressors, ```St``` represents seasonality, and ```μt``` is the local level term. The local level term defines how the latent state evolves over time and is often referred to as the unobserved trend. This could, for example, represent an underlying growth in the brand value of a company or external factors that are hard to pinpoint, but it can also soak up short term fluctuations that should be controlled for with explicit terms. Note that the regressor coefficients, seasonality and trend are estimated simultaneously, which helps avoid strange coefficient estimates due to spurious relationships. ```xtβ```, a linear regression of covariates, help to explain our data further. This dataset does not have any regressors yet, so we’ll add covariates later in order to fit the Bayesian structural model."
   ]
  },
  {
   "cell_type": "code",
   "execution_count": 1,
   "id": "2e8a0eca",
   "metadata": {},
   "outputs": [],
   "source": [
    "import yfinance as yf\n",
    "import matplotlib.pyplot as plt\n",
    "import pandas as pd\n",
    "from causalimpact import CausalImpact\n",
    "from sklearn.preprocessing import MinMaxScaler\n",
    "from statsmodels.tsa.seasonal import seasonal_decompose\n",
    "import warnings\n",
    "warnings.filterwarnings(\"ignore\")"
   ]
  },
  {
   "cell_type": "code",
   "execution_count": 9,
   "id": "3b2b7b56",
   "metadata": {
    "scrolled": false
   },
   "outputs": [
    {
     "ename": "JSONDecodeError",
     "evalue": "Expecting value: line 1 column 1 (char 0)",
     "output_type": "error",
     "traceback": [
      "\u001b[1;31m---------------------------------------------------------------------------\u001b[0m",
      "\u001b[1;31mJSONDecodeError\u001b[0m                           Traceback (most recent call last)",
      "\u001b[1;32m<ipython-input-9-9b97a2898559>\u001b[0m in \u001b[0;36m<module>\u001b[1;34m\u001b[0m\n\u001b[0;32m      6\u001b[0m \u001b[1;33m\u001b[0m\u001b[0m\n\u001b[0;32m      7\u001b[0m \u001b[0my\u001b[0m \u001b[1;33m=\u001b[0m \u001b[1;33m[\u001b[0m\u001b[1;34m'005930.KS'\u001b[0m\u001b[1;33m]\u001b[0m\u001b[1;33m\u001b[0m\u001b[1;33m\u001b[0m\u001b[0m\n\u001b[1;32m----> 8\u001b[1;33m \u001b[0mdf_samsung\u001b[0m \u001b[1;33m=\u001b[0m \u001b[0myf\u001b[0m\u001b[1;33m.\u001b[0m\u001b[0mdownload\u001b[0m\u001b[1;33m(\u001b[0m\u001b[0my\u001b[0m\u001b[1;33m,\u001b[0m \u001b[0mstart\u001b[0m \u001b[1;33m=\u001b[0m \u001b[0mtraining_start\u001b[0m\u001b[1;33m,\u001b[0m \u001b[0mthreads\u001b[0m \u001b[1;33m=\u001b[0m \u001b[1;32mFalse\u001b[0m\u001b[1;33m,\u001b[0m \u001b[0mend\u001b[0m \u001b[1;33m=\u001b[0m \u001b[0mend_date\u001b[0m\u001b[1;33m,\u001b[0m \u001b[0minterval\u001b[0m \u001b[1;33m=\u001b[0m \u001b[1;34m'1d'\u001b[0m\u001b[1;33m)\u001b[0m\u001b[1;33m\u001b[0m\u001b[1;33m\u001b[0m\u001b[0m\n\u001b[0m\u001b[0;32m      9\u001b[0m \u001b[1;33m\u001b[0m\u001b[0m\n\u001b[0;32m     10\u001b[0m \u001b[0mdf_samsung\u001b[0m \u001b[1;33m=\u001b[0m \u001b[0mdf_samsung\u001b[0m\u001b[1;33m[\u001b[0m\u001b[1;34m'Adj Close'\u001b[0m\u001b[1;33m]\u001b[0m\u001b[1;33m.\u001b[0m\u001b[0mrename\u001b[0m\u001b[1;33m(\u001b[0m\u001b[1;34m'Samsung'\u001b[0m\u001b[1;33m)\u001b[0m\u001b[1;33m\u001b[0m\u001b[1;33m\u001b[0m\u001b[0m\n",
      "\u001b[1;32m~\\anaconda3\\lib\\site-packages\\yfinance\\multi.py\u001b[0m in \u001b[0;36mdownload\u001b[1;34m(tickers, start, end, actions, threads, group_by, auto_adjust, back_adjust, progress, period, show_errors, interval, prepost, proxy, rounding, **kwargs)\u001b[0m\n\u001b[0;32m    100\u001b[0m     \u001b[1;32melse\u001b[0m\u001b[1;33m:\u001b[0m\u001b[1;33m\u001b[0m\u001b[1;33m\u001b[0m\u001b[0m\n\u001b[0;32m    101\u001b[0m         \u001b[1;32mfor\u001b[0m \u001b[0mi\u001b[0m\u001b[1;33m,\u001b[0m \u001b[0mticker\u001b[0m \u001b[1;32min\u001b[0m \u001b[0menumerate\u001b[0m\u001b[1;33m(\u001b[0m\u001b[0mtickers\u001b[0m\u001b[1;33m)\u001b[0m\u001b[1;33m:\u001b[0m\u001b[1;33m\u001b[0m\u001b[1;33m\u001b[0m\u001b[0m\n\u001b[1;32m--> 102\u001b[1;33m             data = _download_one(ticker, period=period, interval=interval,\n\u001b[0m\u001b[0;32m    103\u001b[0m                                  \u001b[0mstart\u001b[0m\u001b[1;33m=\u001b[0m\u001b[0mstart\u001b[0m\u001b[1;33m,\u001b[0m \u001b[0mend\u001b[0m\u001b[1;33m=\u001b[0m\u001b[0mend\u001b[0m\u001b[1;33m,\u001b[0m \u001b[0mprepost\u001b[0m\u001b[1;33m=\u001b[0m\u001b[0mprepost\u001b[0m\u001b[1;33m,\u001b[0m\u001b[1;33m\u001b[0m\u001b[1;33m\u001b[0m\u001b[0m\n\u001b[0;32m    104\u001b[0m                                  \u001b[0mactions\u001b[0m\u001b[1;33m=\u001b[0m\u001b[0mactions\u001b[0m\u001b[1;33m,\u001b[0m \u001b[0mauto_adjust\u001b[0m\u001b[1;33m=\u001b[0m\u001b[0mauto_adjust\u001b[0m\u001b[1;33m,\u001b[0m\u001b[1;33m\u001b[0m\u001b[1;33m\u001b[0m\u001b[0m\n",
      "\u001b[1;32m~\\anaconda3\\lib\\site-packages\\yfinance\\multi.py\u001b[0m in \u001b[0;36m_download_one\u001b[1;34m(ticker, start, end, auto_adjust, back_adjust, actions, period, interval, prepost, proxy, rounding)\u001b[0m\n\u001b[0;32m    179\u001b[0m                   prepost=False, proxy=None, rounding=False):\n\u001b[0;32m    180\u001b[0m \u001b[1;33m\u001b[0m\u001b[0m\n\u001b[1;32m--> 181\u001b[1;33m     return Ticker(ticker).history(period=period, interval=interval,\n\u001b[0m\u001b[0;32m    182\u001b[0m                                   \u001b[0mstart\u001b[0m\u001b[1;33m=\u001b[0m\u001b[0mstart\u001b[0m\u001b[1;33m,\u001b[0m \u001b[0mend\u001b[0m\u001b[1;33m=\u001b[0m\u001b[0mend\u001b[0m\u001b[1;33m,\u001b[0m \u001b[0mprepost\u001b[0m\u001b[1;33m=\u001b[0m\u001b[0mprepost\u001b[0m\u001b[1;33m,\u001b[0m\u001b[1;33m\u001b[0m\u001b[1;33m\u001b[0m\u001b[0m\n\u001b[0;32m    183\u001b[0m                                   \u001b[0mactions\u001b[0m\u001b[1;33m=\u001b[0m\u001b[0mactions\u001b[0m\u001b[1;33m,\u001b[0m \u001b[0mauto_adjust\u001b[0m\u001b[1;33m=\u001b[0m\u001b[0mauto_adjust\u001b[0m\u001b[1;33m,\u001b[0m\u001b[1;33m\u001b[0m\u001b[1;33m\u001b[0m\u001b[0m\n",
      "\u001b[1;32m~\\anaconda3\\lib\\site-packages\\yfinance\\base.py\u001b[0m in \u001b[0;36mhistory\u001b[1;34m(self, period, interval, start, end, prepost, actions, auto_adjust, back_adjust, proxy, rounding, tz, **kwargs)\u001b[0m\n\u001b[0;32m    155\u001b[0m             \u001b[0mproxies\u001b[0m\u001b[1;33m=\u001b[0m\u001b[0mproxy\u001b[0m\u001b[1;33m,\u001b[0m\u001b[1;33m\u001b[0m\u001b[1;33m\u001b[0m\u001b[0m\n\u001b[0;32m    156\u001b[0m             \u001b[0mheaders\u001b[0m\u001b[1;33m=\u001b[0m\u001b[0mutils\u001b[0m\u001b[1;33m.\u001b[0m\u001b[0muser_agent_headers\u001b[0m\u001b[1;33m\u001b[0m\u001b[1;33m\u001b[0m\u001b[0m\n\u001b[1;32m--> 157\u001b[1;33m         )\n\u001b[0m\u001b[0;32m    158\u001b[0m         \u001b[1;32mif\u001b[0m \u001b[1;34m\"Will be right back\"\u001b[0m \u001b[1;32min\u001b[0m \u001b[0mdata\u001b[0m\u001b[1;33m.\u001b[0m\u001b[0mtext\u001b[0m\u001b[1;33m:\u001b[0m\u001b[1;33m\u001b[0m\u001b[1;33m\u001b[0m\u001b[0m\n\u001b[0;32m    159\u001b[0m             raise RuntimeError(\"*** YAHOO! FINANCE IS CURRENTLY DOWN! ***\\n\"\n",
      "\u001b[1;32m~\\anaconda3\\lib\\site-packages\\requests\\models.py\u001b[0m in \u001b[0;36mjson\u001b[1;34m(self, **kwargs)\u001b[0m\n\u001b[0;32m    898\u001b[0m                     \u001b[1;31m# used.\u001b[0m\u001b[1;33m\u001b[0m\u001b[1;33m\u001b[0m\u001b[1;33m\u001b[0m\u001b[0m\n\u001b[0;32m    899\u001b[0m                     \u001b[1;32mpass\u001b[0m\u001b[1;33m\u001b[0m\u001b[1;33m\u001b[0m\u001b[0m\n\u001b[1;32m--> 900\u001b[1;33m         \u001b[1;32mreturn\u001b[0m \u001b[0mcomplexjson\u001b[0m\u001b[1;33m.\u001b[0m\u001b[0mloads\u001b[0m\u001b[1;33m(\u001b[0m\u001b[0mself\u001b[0m\u001b[1;33m.\u001b[0m\u001b[0mtext\u001b[0m\u001b[1;33m,\u001b[0m \u001b[1;33m**\u001b[0m\u001b[0mkwargs\u001b[0m\u001b[1;33m)\u001b[0m\u001b[1;33m\u001b[0m\u001b[1;33m\u001b[0m\u001b[0m\n\u001b[0m\u001b[0;32m    901\u001b[0m \u001b[1;33m\u001b[0m\u001b[0m\n\u001b[0;32m    902\u001b[0m     \u001b[1;33m@\u001b[0m\u001b[0mproperty\u001b[0m\u001b[1;33m\u001b[0m\u001b[1;33m\u001b[0m\u001b[0m\n",
      "\u001b[1;32m~\\anaconda3\\lib\\json\\__init__.py\u001b[0m in \u001b[0;36mloads\u001b[1;34m(s, cls, object_hook, parse_float, parse_int, parse_constant, object_pairs_hook, **kw)\u001b[0m\n\u001b[0;32m    355\u001b[0m             \u001b[0mparse_int\u001b[0m \u001b[1;32mis\u001b[0m \u001b[1;32mNone\u001b[0m \u001b[1;32mand\u001b[0m \u001b[0mparse_float\u001b[0m \u001b[1;32mis\u001b[0m \u001b[1;32mNone\u001b[0m \u001b[1;32mand\u001b[0m\u001b[1;33m\u001b[0m\u001b[1;33m\u001b[0m\u001b[0m\n\u001b[0;32m    356\u001b[0m             parse_constant is None and object_pairs_hook is None and not kw):\n\u001b[1;32m--> 357\u001b[1;33m         \u001b[1;32mreturn\u001b[0m \u001b[0m_default_decoder\u001b[0m\u001b[1;33m.\u001b[0m\u001b[0mdecode\u001b[0m\u001b[1;33m(\u001b[0m\u001b[0ms\u001b[0m\u001b[1;33m)\u001b[0m\u001b[1;33m\u001b[0m\u001b[1;33m\u001b[0m\u001b[0m\n\u001b[0m\u001b[0;32m    358\u001b[0m     \u001b[1;32mif\u001b[0m \u001b[0mcls\u001b[0m \u001b[1;32mis\u001b[0m \u001b[1;32mNone\u001b[0m\u001b[1;33m:\u001b[0m\u001b[1;33m\u001b[0m\u001b[1;33m\u001b[0m\u001b[0m\n\u001b[0;32m    359\u001b[0m         \u001b[0mcls\u001b[0m \u001b[1;33m=\u001b[0m \u001b[0mJSONDecoder\u001b[0m\u001b[1;33m\u001b[0m\u001b[1;33m\u001b[0m\u001b[0m\n",
      "\u001b[1;32m~\\anaconda3\\lib\\json\\decoder.py\u001b[0m in \u001b[0;36mdecode\u001b[1;34m(self, s, _w)\u001b[0m\n\u001b[0;32m    335\u001b[0m \u001b[1;33m\u001b[0m\u001b[0m\n\u001b[0;32m    336\u001b[0m         \"\"\"\n\u001b[1;32m--> 337\u001b[1;33m         \u001b[0mobj\u001b[0m\u001b[1;33m,\u001b[0m \u001b[0mend\u001b[0m \u001b[1;33m=\u001b[0m \u001b[0mself\u001b[0m\u001b[1;33m.\u001b[0m\u001b[0mraw_decode\u001b[0m\u001b[1;33m(\u001b[0m\u001b[0ms\u001b[0m\u001b[1;33m,\u001b[0m \u001b[0midx\u001b[0m\u001b[1;33m=\u001b[0m\u001b[0m_w\u001b[0m\u001b[1;33m(\u001b[0m\u001b[0ms\u001b[0m\u001b[1;33m,\u001b[0m \u001b[1;36m0\u001b[0m\u001b[1;33m)\u001b[0m\u001b[1;33m.\u001b[0m\u001b[0mend\u001b[0m\u001b[1;33m(\u001b[0m\u001b[1;33m)\u001b[0m\u001b[1;33m)\u001b[0m\u001b[1;33m\u001b[0m\u001b[1;33m\u001b[0m\u001b[0m\n\u001b[0m\u001b[0;32m    338\u001b[0m         \u001b[0mend\u001b[0m \u001b[1;33m=\u001b[0m \u001b[0m_w\u001b[0m\u001b[1;33m(\u001b[0m\u001b[0ms\u001b[0m\u001b[1;33m,\u001b[0m \u001b[0mend\u001b[0m\u001b[1;33m)\u001b[0m\u001b[1;33m.\u001b[0m\u001b[0mend\u001b[0m\u001b[1;33m(\u001b[0m\u001b[1;33m)\u001b[0m\u001b[1;33m\u001b[0m\u001b[1;33m\u001b[0m\u001b[0m\n\u001b[0;32m    339\u001b[0m         \u001b[1;32mif\u001b[0m \u001b[0mend\u001b[0m \u001b[1;33m!=\u001b[0m \u001b[0mlen\u001b[0m\u001b[1;33m(\u001b[0m\u001b[0ms\u001b[0m\u001b[1;33m)\u001b[0m\u001b[1;33m:\u001b[0m\u001b[1;33m\u001b[0m\u001b[1;33m\u001b[0m\u001b[0m\n",
      "\u001b[1;32m~\\anaconda3\\lib\\json\\decoder.py\u001b[0m in \u001b[0;36mraw_decode\u001b[1;34m(self, s, idx)\u001b[0m\n\u001b[0;32m    353\u001b[0m             \u001b[0mobj\u001b[0m\u001b[1;33m,\u001b[0m \u001b[0mend\u001b[0m \u001b[1;33m=\u001b[0m \u001b[0mself\u001b[0m\u001b[1;33m.\u001b[0m\u001b[0mscan_once\u001b[0m\u001b[1;33m(\u001b[0m\u001b[0ms\u001b[0m\u001b[1;33m,\u001b[0m \u001b[0midx\u001b[0m\u001b[1;33m)\u001b[0m\u001b[1;33m\u001b[0m\u001b[1;33m\u001b[0m\u001b[0m\n\u001b[0;32m    354\u001b[0m         \u001b[1;32mexcept\u001b[0m \u001b[0mStopIteration\u001b[0m \u001b[1;32mas\u001b[0m \u001b[0merr\u001b[0m\u001b[1;33m:\u001b[0m\u001b[1;33m\u001b[0m\u001b[1;33m\u001b[0m\u001b[0m\n\u001b[1;32m--> 355\u001b[1;33m             \u001b[1;32mraise\u001b[0m \u001b[0mJSONDecodeError\u001b[0m\u001b[1;33m(\u001b[0m\u001b[1;34m\"Expecting value\"\u001b[0m\u001b[1;33m,\u001b[0m \u001b[0ms\u001b[0m\u001b[1;33m,\u001b[0m \u001b[0merr\u001b[0m\u001b[1;33m.\u001b[0m\u001b[0mvalue\u001b[0m\u001b[1;33m)\u001b[0m \u001b[1;32mfrom\u001b[0m \u001b[1;32mNone\u001b[0m\u001b[1;33m\u001b[0m\u001b[1;33m\u001b[0m\u001b[0m\n\u001b[0m\u001b[0;32m    356\u001b[0m         \u001b[1;32mreturn\u001b[0m \u001b[0mobj\u001b[0m\u001b[1;33m,\u001b[0m \u001b[0mend\u001b[0m\u001b[1;33m\u001b[0m\u001b[1;33m\u001b[0m\u001b[0m\n",
      "\u001b[1;31mJSONDecodeError\u001b[0m: Expecting value: line 1 column 1 (char 0)"
     ]
    }
   ],
   "source": [
    "training_start = '2016-1-04'\n",
    "training_end = '2020-10-23'\n",
    "treatment_start = '2020-10-26'\n",
    "treatment_end = '2021-1-22'\n",
    "end_date = \"2021-1-23\"\n",
    "\n",
    "y = ['005930.KS']\n",
    "df_samsung = yf.download(y, start = training_start, threads = False, end = end_date, interval = '1d')\n",
    "\n",
    "df_samsung = df_samsung['Adj Close'].rename('Samsung')\n",
    "df_samsung"
   ]
  },
  {
   "cell_type": "code",
   "execution_count": null,
   "id": "2e8df5fa",
   "metadata": {
    "scrolled": false
   },
   "outputs": [],
   "source": [
    "df_samsung.plot(lw=2., figsize=(14,6), label='Adj. Close Price')\n",
    "df_samsung.rolling(30).mean().plot(lw=1.5, label='Roll_30d',c='orange')\n",
    "df_samsung.rolling(90).mean().plot(lw=1.5, label='Roll_90d', c='salmon')\n",
    "plt.title('Samsung Electronics Stock Price (2018-2020)')\n",
    "plt.ylabel('Close Price')\n",
    "plt.axvline(x = 18559, color = 'r')\n",
    "plt.grid()\n",
    "plt.legend(); "
   ]
  },
  {
   "cell_type": "markdown",
   "id": "b978c9f8",
   "metadata": {},
   "source": [
    "Observations: \n",
    "- Even though the price headed downward along the year of 2019, there was increasing trend over the past 5 years overall.\n",
    "- The slope of increase got steeper since the beginning of 2021, while the increase was rather slower until then."
   ]
  },
  {
   "cell_type": "markdown",
   "id": "20eb4e15",
   "metadata": {},
   "source": [
    "### 2. Causal Import Analysis\n",
    "Now that we roughly know that the stock price has been significantly increasing since 2021, we would like to understand whether or not Mr.Lee's death would be responsible for this change. Let's find out how much the event account for the stock price increase. \n",
    "We are going to start the analysis by running the model when only local trend is considered in the computation process.Lastly, we are going to find exogenous variables that influence Samsung Electronic's management conditions. "
   ]
  },
  {
   "cell_type": "markdown",
   "id": "e301c372",
   "metadata": {},
   "source": [
    "#### Step 1. Adding Local Level Only\n",
    "We are going by running the model when only local trend is considered in the computation process."
   ]
  },
  {
   "cell_type": "code",
   "execution_count": null,
   "id": "78d23b6b",
   "metadata": {
    "scrolled": true
   },
   "outputs": [],
   "source": [
    "pre_period = [training_start, training_end] \n",
    "post_period = [treatment_start, treatment_end] \n",
    "impact = CausalImpact(df_samsung, pre_period = pre_period, post_period = post_period)\n",
    "impact.plot()"
   ]
  },
  {
   "cell_type": "markdown",
   "id": "d745955f",
   "metadata": {},
   "source": [
    "- The observed ‘post-event’ time series and fitted model’s forecast counterfactual\n",
    "- The pointwise causal effect, as estimated by the model. This is the difference between the observed outcome and the predicted outcome.\n",
    "- The cumulative effect is the total amount of difference accumulated until certain point of time."
   ]
  },
  {
   "cell_type": "code",
   "execution_count": null,
   "id": "e5f489f4",
   "metadata": {
    "scrolled": true
   },
   "outputs": [],
   "source": [
    "print(impact.summary())"
   ]
  },
  {
   "cell_type": "markdown",
   "id": "34937aab",
   "metadata": {},
   "source": [
    "- Before you read a summary, make sure to focus on Average column instead of Cumulative. We are more interested in average change of stock price than the cumulative difference of stock price change.\n",
    "- Our model has concluded that Mr.Lee's death has undoubtedly increase stock price by KRW 12,110 (20.68%), with statistical significance of 0. \n",
    "- Do note that this result is not reliable enough, since seasonal effect and covariate effect are not reflected."
   ]
  },
  {
   "cell_type": "markdown",
   "id": "5a48d05b",
   "metadata": {},
   "source": [
    "#### Step 2. Adding Seasonal Impact\n",
    "We have learn that the event is definitely responsible for the price change, but this is not delicate enough. There are far more variables that we can add to improve our model, and seasonality is one of them. Once we learn any seasonality lying in the business, we are going to add a seasonality parameter to see how absolute/relative effect in summary has changed."
   ]
  },
  {
   "cell_type": "code",
   "execution_count": null,
   "id": "45673a1a",
   "metadata": {
    "scrolled": true
   },
   "outputs": [],
   "source": [
    "samsung = seasonal_decompose(df_samsung, period=250)\n",
    "seasonal_2016 = samsung.seasonal[0:245]\n",
    "seasonal_2017 = samsung.seasonal[246:484]\n",
    "seasonal_2018 = samsung.seasonal[485:726]\n",
    "seasonal_2019 = samsung.seasonal[727:989]\n",
    "\n",
    "fig, ax = plt.subplots(4, figsize=(14,10))\n",
    "ax[0].plot(seasonal_2016, lw=2., color='royalblue')\n",
    "ax[0].set_title('Seasonal Signal, 2016')\n",
    "ax[1].plot(seasonal_2017, lw=2., color='royalblue')\n",
    "ax[1].set_title('Seasonal Signal, 2017')\n",
    "ax[2].plot(seasonal_2018, lw=2., color='royalblue')\n",
    "ax[2].set_title('Seasonal Signal, 2018')\n",
    "ax[3].plot(seasonal_2019, lw=2., color='royalblue')\n",
    "ax[3].set_title('Seasonal Signal, 2019');"
   ]
  },
  {
   "cell_type": "markdown",
   "id": "6f73e84e",
   "metadata": {},
   "source": [
    "- Interestingly enough we can see the almost same figures every year; price reaches its peak at the beginning of year and falls to the bottom around March. After the tumble it starts to slowly rise to the top until the end of the year, encountering several ups and downs throughout the year. \n",
    "- Given the very similar shape happening each year, we are going to add annual seasonality parameter to the function."
   ]
  },
  {
   "cell_type": "code",
   "execution_count": null,
   "id": "91c211c1",
   "metadata": {},
   "outputs": [],
   "source": [
    "pre_period = [training_start, training_end] \n",
    "post_period = [treatment_start, treatment_end] \n",
    "impact = CausalImpact(df_samsung, pre_period, post_period, model_args={'niter': 1000})\n",
    "\n",
    "impact.plot()"
   ]
  },
  {
   "cell_type": "code",
   "execution_count": null,
   "id": "f69da546",
   "metadata": {},
   "outputs": [],
   "source": [
    "print(impact.summary())"
   ]
  },
  {
   "cell_type": "code",
   "execution_count": null,
   "id": "7335c00d",
   "metadata": {},
   "outputs": [],
   "source": []
  },
  {
   "cell_type": "markdown",
   "id": "4c25ad08",
   "metadata": {},
   "source": [
    "#### Step 3. Adding External Impact\n",
    "\n",
    "Seasonal components did little to improve the forecast counterfactual.\n",
    "Therefore, we are moving on for another variables for the model - exogenous variables that influence Samsung Electronic's management conditions. \n",
    "\n",
    "Using domain knowledge, we know that the company's business sector consists of 3 parts; semiconductor, IT/mobile communications and consumer electronics. For semiconductor, we are going to use Philadelphia semiconductor index which demonstrates supply/demand relationship of semiconductor worldwide. For other field that don't have a general index, we are going to use the company's competitors' stock price chart which influences Samsung Electronics' stock via sales/marketing strategies etc.\n",
    "The added features' linear regressions (beta) will help us understand our data better."
   ]
  },
  {
   "cell_type": "code",
   "execution_count": null,
   "id": "1639b956",
   "metadata": {
    "scrolled": true
   },
   "outputs": [],
   "source": [
    "samsung = seasonal_decompose(df_samsung, period=250)\n",
    "result_samsung = samsung.seasonal[:]\n",
    "\n",
    "df_apple = yf.download(['AAPL'], start = training_start, end = end_date, interval = '1d').iloc[:,4]\n",
    "df_apple.rename('Apple', inplace = True)\n",
    "apple = seasonal_decompose(df_apple, period=250)\n",
    "result_apple = apple.seasonal[:]\n",
    "\n",
    "df_philly = yf.download(['^SOX'], start = training_start, end = end_date, interval = '1d').iloc[:,4]\n",
    "df_philly.rename('Phil.Semiconductor', inplace = True)\n",
    "philly = seasonal_decompose(df_philly, period=250)\n",
    "result_philly= philly.seasonal[:]\n",
    "\n",
    "df_sony = yf.download(['SONY'], start = training_start, end = end_date, interval = '1d').iloc[:,4]\n",
    "df_sony.rename('Sony', inplace = True)\n",
    "sony = seasonal_decompose(df_sony, period=250)\n",
    "result_sony = sony.seasonal[:]\n",
    "\n",
    "fig, ax = plt.subplots(4, figsize=(15,12))\n",
    "ax[0].plot(result_samsung, lw=2.)\n",
    "ax[0].set_title('Samsung Seasonal Signal')\n",
    "ax[1].plot(result_apple, lw=2., color='salmon')\n",
    "ax[1].set_title('Apple Seasonal Signal', pad = 1)\n",
    "ax[2].plot(result_philly, lw=2., color='orange')\n",
    "ax[2].set_title('Philadelphia Semiconductor Index Seasonal Signal',pad = 1)\n",
    "ax[3].plot(result_sony, lw=2., color = 'navy')\n",
    "ax[3].set_title('Sony Seasonal Signal', pad = 1);"
   ]
  },
  {
   "cell_type": "markdown",
   "id": "a4d1acc5",
   "metadata": {},
   "source": [
    "- We can easily see that Samsung Electronics' share price change looks similar to the rest in that they all fall in 1st quarter.\n",
    "- especially Philadelphia Semiconductor Index has a very similar pattern throughout the year. It is also similar in that the price moves to its peak at the end of the year after a huge drop in the 1st quarter.\n",
    "- Sony has 2nd most similar figure. The small ups and downs between 2nd quarter and 4th quarter are common to Phil. index. This is because semiconductor is another business sector that exists in Sony, just like Samsung Electronics. \n",
    "- Apple has the least similar seasonality to Samsung Electronics. They all share the price going down in 1st quarter and then bounce back. But Apple recovers the price faster than Samsung and falls again in 4th quarter."
   ]
  },
  {
   "cell_type": "code",
   "execution_count": null,
   "id": "fbdcab81",
   "metadata": {
    "scrolled": true
   },
   "outputs": [],
   "source": [
    "# 2. Adding additional stocks in the semiconductor, mobile industry for more precise forecast\n",
    "# stocks = ['TSM', 'MU', 'INTC']\n",
    "# df_stocks = yf.download(stocks, start = training_start, end = end_date, interval = '1d')\n",
    "# df_stocks = df_stocks.iloc[:,:3]\n",
    "# df_stocks.columns = df_stocks.columns.droplevel()\n",
    "\n",
    "df_total = pd.concat([df_samsung, df_apple, df_philly, df_sony], axis = 1)\n",
    "# df_total.rename(columns ={'INTC': 'Intel', 'TSM':'TSMC', 'MU': 'Micron Tech.'}, inplace = True)\n",
    "df_total.dropna(inplace = True)\n",
    "df_total"
   ]
  },
  {
   "cell_type": "code",
   "execution_count": null,
   "id": "f95108fd",
   "metadata": {
    "scrolled": true
   },
   "outputs": [],
   "source": [
    "# checking for correlation\n",
    "\n",
    "df_total_corr = df_total[df_total.index <= training_end]\n",
    "df_total_corr.dropna().corr()"
   ]
  },
  {
   "cell_type": "markdown",
   "id": "4dcb2500",
   "metadata": {},
   "source": [
    "- In order to improve forecast counterfactual, We would like to choose highly correlated stocks only.\n",
    "- Given that all companies have Pearson correlation coefficient higher than 0.8, their share price are very correlated to Samsung Electronics'. Do note that high correlation coefficient means strong linear association, which allows us to use these as covariates in the model.\n",
    "- However we need to scale the variables down, since each stock has different variance borne by different currency. We are going to choose MinMaxScaler as a scaler to use."
   ]
  },
  {
   "cell_type": "code",
   "execution_count": null,
   "id": "fcc60a4b",
   "metadata": {
    "scrolled": false
   },
   "outputs": [],
   "source": [
    "scaler = MinMaxScaler()\n",
    "scaler.fit(df_total)\n",
    "df_total_scaled = scaler.transform(df_total)\n",
    "df_total_scaled_pd = pd.DataFrame(df_total_scaled, columns = df_total.columns, index = df_total.index)\n",
    "df_total_scaled_pd"
   ]
  },
  {
   "cell_type": "code",
   "execution_count": 25,
   "id": "34c9d213",
   "metadata": {
    "scrolled": true
   },
   "outputs": [
    {
     "ename": "NameError",
     "evalue": "name 'df_total_scaled_pd' is not defined",
     "output_type": "error",
     "traceback": [
      "\u001b[1;31m---------------------------------------------------------------------------\u001b[0m",
      "\u001b[1;31mNameError\u001b[0m                                 Traceback (most recent call last)",
      "\u001b[1;32m<ipython-input-25-1a5e19c93757>\u001b[0m in \u001b[0;36m<module>\u001b[1;34m\u001b[0m\n\u001b[0;32m      1\u001b[0m \u001b[0mpre_period\u001b[0m \u001b[1;33m=\u001b[0m \u001b[1;33m[\u001b[0m\u001b[0mtraining_start\u001b[0m\u001b[1;33m,\u001b[0m \u001b[0mtraining_end\u001b[0m\u001b[1;33m]\u001b[0m\u001b[1;33m\u001b[0m\u001b[1;33m\u001b[0m\u001b[0m\n\u001b[0;32m      2\u001b[0m \u001b[0mpost_period\u001b[0m \u001b[1;33m=\u001b[0m \u001b[1;33m[\u001b[0m\u001b[0mtreatment_start\u001b[0m\u001b[1;33m,\u001b[0m \u001b[0mtreatment_end\u001b[0m\u001b[1;33m]\u001b[0m\u001b[1;33m\u001b[0m\u001b[1;33m\u001b[0m\u001b[0m\n\u001b[1;32m----> 3\u001b[1;33m \u001b[0mimpact\u001b[0m \u001b[1;33m=\u001b[0m \u001b[0mCausalImpact\u001b[0m\u001b[1;33m(\u001b[0m\u001b[0mdf_total_scaled_pd\u001b[0m\u001b[1;33m,\u001b[0m \u001b[0mpre_period\u001b[0m \u001b[1;33m=\u001b[0m \u001b[0mpre_period\u001b[0m\u001b[1;33m,\u001b[0m \u001b[0mpost_period\u001b[0m \u001b[1;33m=\u001b[0m \u001b[0mpost_period\u001b[0m\u001b[1;33m,\u001b[0m \u001b[0mmodel_args\u001b[0m\u001b[1;33m=\u001b[0m\u001b[0mlist\u001b[0m\u001b[1;33m(\u001b[0m\u001b[0mniter\u001b[0m \u001b[1;33m=\u001b[0m \u001b[1;36m1000\u001b[0m\u001b[1;33m,\u001b[0m \u001b[0mnseasons\u001b[0m \u001b[1;33m=\u001b[0m \u001b[1;36m52\u001b[0m\u001b[1;33m)\u001b[0m\u001b[1;33m)\u001b[0m\u001b[1;33m\u001b[0m\u001b[1;33m\u001b[0m\u001b[0m\n\u001b[0m\u001b[0;32m      4\u001b[0m \u001b[0mimpact\u001b[0m\u001b[1;33m.\u001b[0m\u001b[0mplot\u001b[0m\u001b[1;33m(\u001b[0m\u001b[1;33m)\u001b[0m\u001b[1;33m\u001b[0m\u001b[1;33m\u001b[0m\u001b[0m\n",
      "\u001b[1;31mNameError\u001b[0m: name 'df_total_scaled_pd' is not defined"
     ]
    }
   ],
   "source": [
    "pre_period = [training_start, training_end] \n",
    "post_period = [treatment_start, treatment_end] \n",
    "impact = CausalImpact(df_total_scaled_pd, pre_period = pre_period, post_period = post_period, model_args=list(niter = 1000, nseasons = 52))\n",
    "impact.plot()"
   ]
  },
  {
   "cell_type": "code",
   "execution_count": 515,
   "id": "d887e3a2",
   "metadata": {},
   "outputs": [
    {
     "name": "stdout",
     "output_type": "stream",
     "text": [
      "Posterior Inference {Causal Impact}\n",
      "                          Average            Cumulative\n",
      "Actual                    0.72               43.05\n",
      "Prediction (s.d.)         0.65 (0.03)        39.07 (1.76)\n",
      "95% CI                    [0.6, 0.71]        [35.7, 42.59]\n",
      "\n",
      "Absolute effect (s.d.)    0.07 (0.03)        3.98 (1.76)\n",
      "95% CI                    [0.01, 0.12]       [0.46, 7.34]\n",
      "\n",
      "Relative effect (s.d.)    10.18% (4.49%)     10.18% (4.49%)\n",
      "95% CI                    [1.17%, 18.79%]    [1.17%, 18.79%]\n",
      "\n",
      "Posterior tail-area probability p: 0.01\n",
      "Posterior prob. of a causal effect: 99.0%\n",
      "\n",
      "For more details run the command: print(impact.summary('report'))\n"
     ]
    }
   ],
   "source": [
    "print(impact.summary())"
   ]
  },
  {
   "cell_type": "markdown",
   "id": "575f32f6",
   "metadata": {},
   "source": [
    "1. sclaed 된 숫자이기 때문에 절대 금액은 비교하기 힘듬\n",
    "2. 하지만 긍정적인 영향을 준것은 확실 - tail-area probability = 0.00 (statistical significance)- very significant. \n",
    "이벤트가 영향을 주지 않았다는 영가설은 확실하게 기각되었음. confidence interval (6.81%-) 는 항상 positive.\n",
    "3. 급등의 이유는 이건희 회장의 후계자가 사후 배당을 늘릴 것이라고 전문가들에 의해 예측되었기 때문.\n",
    "3. 주가는 평균 16.41% 오른 것으로 보임"
   ]
  },
  {
   "cell_type": "markdown",
   "id": "c9a8a0f7",
   "metadata": {},
   "source": [
    "### Conclusion"
   ]
  },
  {
   "cell_type": "code",
   "execution_count": null,
   "id": "4e71f05d",
   "metadata": {},
   "outputs": [],
   "source": [
    "the price has been increasing in outstanding speed, "
   ]
  },
  {
   "cell_type": "markdown",
   "id": "52b77ff7",
   "metadata": {},
   "source": [
    "### Reference\n",
    "https://multithreaded.stitchfix.com/blog/2016/04/21/forget-arima/"
   ]
  }
 ],
 "metadata": {
  "kernelspec": {
   "display_name": "Python 3",
   "language": "python",
   "name": "python3"
  },
  "language_info": {
   "codemirror_mode": {
    "name": "ipython",
    "version": 3
   },
   "file_extension": ".py",
   "mimetype": "text/x-python",
   "name": "python",
   "nbconvert_exporter": "python",
   "pygments_lexer": "ipython3",
   "version": "3.8.8"
  }
 },
 "nbformat": 4,
 "nbformat_minor": 5
}
